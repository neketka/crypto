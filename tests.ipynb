{
 "cells": [
  {
   "cell_type": "code",
   "execution_count": 286,
   "metadata": {},
   "outputs": [],
   "source": [
    "import matplotlib.pyplot as plt\n",
    "import pandas as pd\n",
    "import torch"
   ]
  },
  {
   "cell_type": "code",
   "execution_count": 287,
   "metadata": {},
   "outputs": [],
   "source": [
    "df = pd.read_csv(\"Gemini_BTCUSD_1h.csv\", parse_dates=[\"date\"])"
   ]
  },
  {
   "cell_type": "code",
   "execution_count": 288,
   "metadata": {},
   "outputs": [],
   "source": [
    "def generate_label_window(closings, dim: int, lookahead: int):\n",
    "    window = closings[:dim]\n",
    "    window_last_price = window[-1]\n",
    "    with_lookahead = closings[:dim + lookahead]\n",
    "\n",
    "    stddev_half = torch.std(with_lookahead) * 0.5\n",
    "\n",
    "    buy = torch.abs(torch.min(with_lookahead) - window_last_price) < stddev_half \n",
    "    sell = torch.abs(torch.max(with_lookahead) - window_last_price) < stddev_half\n",
    "\n",
    "    if buy == sell:\n",
    "        return 0\n",
    "    \n",
    "    return -1 if sell else 1"
   ]
  },
  {
   "cell_type": "code",
   "execution_count": 289,
   "metadata": {},
   "outputs": [],
   "source": [
    "closings = torch.flip(torch.tensor(df[\"close\"][:4000], dtype=torch.float), dims=(0,))\n",
    "closings -= torch.mean(closings)\n",
    "closings /= torch.std(closings)\n",
    "dim = 48\n",
    "lookahead = 24\n",
    "win_size = dim + lookahead\n",
    "\n",
    "n = len(closings) - dim - lookahead\n",
    "\n",
    "xTr_sell = []\n",
    "yTr_sell = []\n",
    "\n",
    "xTr_buy = []\n",
    "yTr_buy = []\n",
    "\n",
    "xTr_none = []\n",
    "\n",
    "for win_start in range(n):\n",
    "  xTr_i = closings[win_start:][:dim]\n",
    "  yTr_i = generate_label_window(closings[win_start:], dim, lookahead)\n",
    "  \n",
    "  if yTr_i == 1:\n",
    "    xTr_buy.append(xTr_i)\n",
    "    yTr_buy.append(1)\n",
    "  elif yTr_i == -1:\n",
    "    xTr_sell.append(xTr_i)\n",
    "    yTr_sell.append(1)\n",
    "  else:\n",
    "    xTr_none.append(xTr_i)\n",
    "\n",
    "\n",
    "xTr_sell = torch.stack(xTr_sell + xTr_none[:len(xTr_sell)])\n",
    "xTr_buy = torch.stack(xTr_buy + xTr_none[:len(xTr_buy)])\n",
    "\n",
    "yTr_sell = torch.stack([torch.tensor(yTr_sell + [0] * len(yTr_sell), dtype=torch.float)]).mT\n",
    "yTr_buy = torch.stack([torch.tensor(yTr_buy + [0] * len(yTr_buy), dtype=torch.float)]).mT"
   ]
  },
  {
   "cell_type": "code",
   "execution_count": null,
   "metadata": {},
   "outputs": [],
   "source": [
    "import torch\n",
    "\n",
    "\n",
    "def train_model(xTr, yTr):\n",
    "    model = torch.nn.Sequential( \n",
    "        torch.nn.Linear(in_features = dim, out_features = 10),\n",
    "        torch.nn.ReLU(),\n",
    "        torch.nn.Linear(in_features = 10, out_features = 10),\n",
    "        torch.nn.ReLU(),\n",
    "        torch.nn.Linear(in_features = 10, out_features = 1),\n",
    "        torch.nn.Sigmoid(),\n",
    "    )\n",
    "\n",
    "    # Train the model \n",
    "    criterion = torch.nn.BCELoss() \n",
    "    optimizer = torch.optim.SGD(model.parameters(), lr=0.1)\n",
    "    \n",
    "    err = 0\n",
    "    num_epochs = 10000\n",
    "    for epoch in range(num_epochs): \n",
    "        # Forward pass \n",
    "        y_pred = model(xTr)\n",
    "        loss = criterion(y_pred, yTr) \n",
    "    \n",
    "        # Backward pass and optimization \n",
    "        optimizer.zero_grad() \n",
    "        loss.backward()\n",
    "        optimizer.step()\n",
    "    \n",
    "        err = torch.abs(y_pred - yTr).sum() / yTr.shape[0]\n",
    "\n",
    "        # Print the loss every 100 epochs \n",
    "        if (epoch+1) % 100 == 0: \n",
    "            print(f'Epoch [{epoch+1}/{num_epochs}], Loss: {loss.item():.4f}')\n",
    "\n",
    "    return model, err\n",
    "\n",
    "\n",
    "sell_model, sell_error = train_model(xTr_sell, yTr_sell)\n",
    "buy_model, buy_error = train_model(xTr_buy, yTr_buy)\n",
    "\n",
    "print(f\"Buy Error: {buy_error * 100}%, Sell Error: {sell_error * 100}%\")"
   ]
  },
  {
   "cell_type": "code",
   "execution_count": null,
   "metadata": {},
   "outputs": [],
   "source": []
  }
 ],
 "metadata": {
  "kernelspec": {
   "display_name": ".venv",
   "language": "python",
   "name": "python3"
  },
  "language_info": {
   "codemirror_mode": {
    "name": "ipython",
    "version": 3
   },
   "file_extension": ".py",
   "mimetype": "text/x-python",
   "name": "python",
   "nbconvert_exporter": "python",
   "pygments_lexer": "ipython3",
   "version": "3.10.2"
  }
 },
 "nbformat": 4,
 "nbformat_minor": 2
}
