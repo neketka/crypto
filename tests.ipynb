{
 "cells": [
  {
   "cell_type": "code",
   "execution_count": 78,
   "metadata": {},
   "outputs": [],
   "source": [
    "import matplotlib.pyplot as plt\n",
    "import pandas as pd\n",
    "import numpy as np\n",
    "import numpy.typing as npt"
   ]
  },
  {
   "cell_type": "code",
   "execution_count": 79,
   "metadata": {},
   "outputs": [],
   "source": [
    "df = pd.read_csv(\"Gemini_BTCUSD_1h.csv\", parse_dates=[\"date\"])"
   ]
  },
  {
   "cell_type": "code",
   "execution_count": 80,
   "metadata": {},
   "outputs": [],
   "source": [
    "def generate_label_window(\n",
    "        closings: npt.ArrayLike, dim: int, lookahead: int\n",
    "    ) -> tuple[npt.ArrayLike, float]:\n",
    "    window = closings[:dim]\n",
    "    window_last_price = window[-1]\n",
    "    with_lookahead = closings[:dim + lookahead]\n",
    "\n",
    "    stddev_half = np.std(with_lookahead) * 0.5\n",
    "\n",
    "    buy = np.abs(np.min(with_lookahead) - window_last_price) < stddev_half \n",
    "    sell = np.abs(np.max(with_lookahead) - window_last_price) < stddev_half\n",
    "\n",
    "    if buy == sell:\n",
    "        return 0\n",
    "    \n",
    "    return -1 if sell else 1"
   ]
  },
  {
   "cell_type": "code",
   "execution_count": 84,
   "metadata": {},
   "outputs": [
    {
     "name": "stdout",
     "output_type": "stream",
     "text": [
      "Profit: 319.5927508602918%\n",
      "Buy + Hold: -49.80467701119691%\n",
      "Start End: 54932.09 27584.69\n",
      "% kept after fees: 49.82282720379108%\n"
     ]
    },
    {
     "data": {
      "text/plain": [
       "'\\nplt.scatter(sells_x, sells_y, c=\"red\")\\nplt.scatter(buys_x, buys_y, c=\"green\")\\nplt.plot(closings)\\nplt.ylabel(\"USD/BTC\")\\nplt.xlabel(\"Time since \" + str(df[\"date\"][0]))\\nplt.show()\\n'"
      ]
     },
     "execution_count": 84,
     "metadata": {},
     "output_type": "execute_result"
    }
   ],
   "source": [
    "closings = np.flip(np.array(df[\"close\"][:17520]))\n",
    "dim = 48\n",
    "lookahead = 24\n",
    "\n",
    "sells_x, sells_y = [], []\n",
    "buys_x, buys_y = [], []\n",
    "\n",
    "for win_start in range(len(closings) - dim - lookahead):\n",
    "  xTr = closings[win_start:][:dim + lookahead]\n",
    "  yTr = generate_label_window(xTr, dim, lookahead)\n",
    "\n",
    "  win_x = win_start + dim\n",
    "  win_y = closings[win_x]\n",
    "\n",
    "  if yTr == 1 and len(buys_x) == len(sells_x):\n",
    "    buys_x.append(win_x)\n",
    "    buys_y.append(win_y)\n",
    "  elif yTr == -1 and len(buys_x) > len(sells_x):\n",
    "    sells_x.append(win_x)\n",
    "    sells_y.append(win_y)\n",
    "\n",
    "if len(buys_x) > len(sells_x):\n",
    "  buys_x.pop()\n",
    "  buys_y.pop()\n",
    "\n",
    "fee_keep = (1 - 0.2/100) ** (2 * len(sells_y))\n",
    "profit = np.sum(np.array(sells_y) / np.array(buys_y) - 1) * 100 * fee_keep\n",
    "buy_hold = (closings[-1] / closings[0] - 1) * 100\n",
    "\n",
    "print(\"Profit: \" + str(profit) + \"%\")\n",
    "print(\"Buy + Hold: \" + str(buy_hold) + \"%\")\n",
    "print(\"Start End:\", closings[0], closings[-2])\n",
    "print(\"% kept after fees: \" + str(fee_keep * 100) + \"%\")\n",
    "\n",
    "\"\"\"\n",
    "plt.scatter(sells_x, sells_y, c=\"red\")\n",
    "plt.scatter(buys_x, buys_y, c=\"green\")\n",
    "plt.plot(closings)\n",
    "plt.ylabel(\"USD/BTC\")\n",
    "plt.xlabel(\"Time since \" + str(df[\"date\"][0]))\n",
    "plt.show()\n",
    "\"\"\""
   ]
  }
 ],
 "metadata": {
  "kernelspec": {
   "display_name": ".venv",
   "language": "python",
   "name": "python3"
  },
  "language_info": {
   "codemirror_mode": {
    "name": "ipython",
    "version": 3
   },
   "file_extension": ".py",
   "mimetype": "text/x-python",
   "name": "python",
   "nbconvert_exporter": "python",
   "pygments_lexer": "ipython3",
   "version": "3.11.5"
  }
 },
 "nbformat": 4,
 "nbformat_minor": 2
}
